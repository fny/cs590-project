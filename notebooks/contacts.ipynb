{
 "cells": [
  {
   "cell_type": "code",
   "execution_count": 10,
   "metadata": {},
   "outputs": [
    {
     "ename": "KeyboardInterrupt",
     "evalue": "",
     "output_type": "error",
     "traceback": [
      "\u001b[0;31m---------------------------------------------------------------------------\u001b[0m",
      "\u001b[0;31mKeyboardInterrupt\u001b[0m                         Traceback (most recent call last)",
      "\u001b[0;32m<ipython-input-10-e22d0c4185cd>\u001b[0m in \u001b[0;36m<module>\u001b[0;34m\u001b[0m\n\u001b[1;32m     36\u001b[0m \u001b[0;34m\u001b[0m\u001b[0m\n\u001b[1;32m     37\u001b[0m \u001b[0;32mfor\u001b[0m \u001b[0mpdb_id\u001b[0m \u001b[0;32min\u001b[0m \u001b[0mpdb_ids\u001b[0m\u001b[0;34m:\u001b[0m\u001b[0;34m\u001b[0m\u001b[0;34m\u001b[0m\u001b[0m\n\u001b[0;32m---> 38\u001b[0;31m     \u001b[0mfind_contacts\u001b[0m\u001b[0;34m(\u001b[0m\u001b[0mpdb_id\u001b[0m\u001b[0;34m)\u001b[0m\u001b[0;34m\u001b[0m\u001b[0;34m\u001b[0m\u001b[0m\n\u001b[0m",
      "\u001b[0;32m<ipython-input-10-e22d0c4185cd>\u001b[0m in \u001b[0;36mfind_contacts\u001b[0;34m(pdb_id)\u001b[0m\n\u001b[1;32m     13\u001b[0m     \u001b[0mprotein\u001b[0m \u001b[0;34m=\u001b[0m \u001b[0msession\u001b[0m\u001b[0;34m.\u001b[0m\u001b[0mquery\u001b[0m\u001b[0;34m(\u001b[0m\u001b[0mProtein\u001b[0m\u001b[0;34m)\u001b[0m\u001b[0;34m.\u001b[0m\u001b[0mfilter_by\u001b[0m\u001b[0;34m(\u001b[0m\u001b[0mpdb_id\u001b[0m\u001b[0;34m=\u001b[0m\u001b[0mpdb_id\u001b[0m\u001b[0;34m)\u001b[0m\u001b[0;34m.\u001b[0m\u001b[0mfirst\u001b[0m\u001b[0;34m(\u001b[0m\u001b[0;34m)\u001b[0m\u001b[0;34m\u001b[0m\u001b[0;34m\u001b[0m\u001b[0m\n\u001b[1;32m     14\u001b[0m \u001b[0;34m\u001b[0m\u001b[0m\n\u001b[0;32m---> 15\u001b[0;31m     \u001b[0mresult\u001b[0m \u001b[0;34m=\u001b[0m \u001b[0mos\u001b[0m\u001b[0;34m.\u001b[0m\u001b[0mpopen\u001b[0m\u001b[0;34m(\u001b[0m\u001b[0;34mf'~/cs590/bin/confind --p {protein.file_path} --rLib ~/cs590/bin/rotlibs'\u001b[0m\u001b[0;34m)\u001b[0m\u001b[0;34m.\u001b[0m\u001b[0mread\u001b[0m\u001b[0;34m(\u001b[0m\u001b[0;34m)\u001b[0m\u001b[0;34m\u001b[0m\u001b[0;34m\u001b[0m\u001b[0m\n\u001b[0m\u001b[1;32m     16\u001b[0m \u001b[0;34m\u001b[0m\u001b[0m\n\u001b[1;32m     17\u001b[0m     \u001b[0mdata\u001b[0m \u001b[0;34m=\u001b[0m \u001b[0;34m[\u001b[0m\u001b[0;34m]\u001b[0m\u001b[0;34m\u001b[0m\u001b[0;34m\u001b[0m\u001b[0m\n",
      "\u001b[0;31mKeyboardInterrupt\u001b[0m: "
     ]
    }
   ],
   "source": [
    "import os\n",
    "import project_path\n",
    "from lib.schema import Session, Protein, engine\n",
    "import pandas as pd\n",
    "import random\n",
    "from sqlalchemy.sql import text\n",
    "\n",
    "session = Session()\n",
    "pdb_ids = list(map(lambda x: x[0], session.query(Protein.pdb_id).filter_by(contact_x = None).all()))\n",
    "random.shuffle(pdb_ids)\n",
    "\n",
    "def find_contacts(pdb_id):\n",
    "    protein = session.query(Protein).filter_by(pdb_id=pdb_id).first()\n",
    "    \n",
    "    result = os.popen(f'~/cs590/bin/confind --p {protein.file_path} --rLib ~/cs590/bin/rotlibs').read()\n",
    "\n",
    "    data = []\n",
    "    for line in result.split('\\n'):\n",
    "        if line.startswith('contact'):\n",
    "            data.append(line.split('\\t'))\n",
    "\n",
    "\n",
    "    # pd.set_option('display.max_rows', 5000)\n",
    "\n",
    "    df = pd.DataFrame(data).sort_values(by=[3], ascending=False)\n",
    "    df[3] = pd.to_numeric(df[3],errors='coerce')\n",
    "    df = df[df[3] > 0.5]\n",
    "\n",
    "    contact_x = list(map(lambda x: int(x.split(',')[1]), df[df[3] > 0.5][1]))\n",
    "    contact_y = list(map(lambda x: int(x.split(',')[1]), df[df[3] > 0.5][2]))\n",
    "    protein.contact_x = contact_x\n",
    "    protein.contact_y = contact_y\n",
    "    session.commit()\n",
    "    print(\"DONE\", pdb_id)\n",
    "    \n",
    "    \n",
    "for pdb_id in pdb_ids:\n",
    "    find_contacts(pdb_id)"
   ]
  },
  {
   "cell_type": "code",
   "execution_count": null,
   "metadata": {},
   "outputs": [],
   "source": [
    "session.query(Protein.pdb_id).filter_by(contact_x = None).all()"
   ]
  }
 ],
 "metadata": {
  "kernelspec": {
   "display_name": "Python 3",
   "language": "python",
   "name": "python3"
  },
  "language_info": {
   "codemirror_mode": {
    "name": "ipython",
    "version": 3
   },
   "file_extension": ".py",
   "mimetype": "text/x-python",
   "name": "python",
   "nbconvert_exporter": "python",
   "pygments_lexer": "ipython3",
   "version": "3.7.7"
  }
 },
 "nbformat": 4,
 "nbformat_minor": 4
}
